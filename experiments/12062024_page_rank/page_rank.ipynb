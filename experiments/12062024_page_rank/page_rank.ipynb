{
 "cells": [
  {
   "cell_type": "code",
   "execution_count": 1,
   "id": "f2cbcc9834d0ddc7",
   "metadata": {
    "ExecuteTime": {
     "end_time": "2024-06-16T10:53:13.282119Z",
     "start_time": "2024-06-16T10:53:12.561767Z"
    },
    "collapsed": false
   },
   "outputs": [],
   "source": [
    "import pandas as pd\n",
    "import networkx as nx\n",
    "import sys\n",
    "\n",
    "# add root folder to path\n",
    "folder = \"../../\"\n",
    "sys.path.append(folder)\n",
    "from src.config import MOVIES_PATH, RATINGS_PATH\n",
    "from src.utils import load_data"
   ]
  },
  {
   "cell_type": "code",
   "execution_count": null,
   "id": "38f10e50bc093950",
   "metadata": {
    "collapsed": false
   },
   "outputs": [],
   "source": [
    "users,ratings,movies = load_data('../../data/movies.csv')"
   ]
  },
  {
   "cell_type": "code",
   "execution_count": null,
   "id": "41fc4536395df636",
   "metadata": {
    "collapsed": false
   },
   "outputs": [],
   "source": [
    "B = nx.Graph()\n",
    "\n",
    "B.add_nodes_from(ratings['UserID'], bipartite=0)\n",
    "B.add_nodes_from(ratings['MovieID'], bipartite=1)\n",
    "edges = list(zip(ratings['UserID'], ratings['MovieID']))\n",
    "B.add_edges_from(edges)\n",
    "\n",
    "pr = nx.pagerank(B, alpha=0.85)\n",
    "pr_df = pd.DataFrame(pr.items(), columns=['ID', 'PageRank'])\n",
    "\n",
    "user_pr = pr_df[pr_df['ID'].isin(ratings['UserID'])].sort_values(by='PageRank', ascending=False)\n",
    "movie_pr = pr_df[pr_df['ID'].isin(ratings['MovieID'])].sort_values(by='PageRank', ascending=False)\n",
    "\n",
    "print(movie_pr.head())"
   ]
  },
  {
   "cell_type": "code",
   "execution_count": 2,
   "id": "initial_id",
   "metadata": {
    "ExecuteTime": {
     "end_time": "2024-06-16T10:53:17.731651Z",
     "start_time": "2024-06-16T10:53:13.284441Z"
    },
    "collapsed": true
   },
   "outputs": [
    {
     "name": "stdout",
     "output_type": "stream",
     "text": [
      "        ID  PageRank\n",
      "2857  2858  0.001810\n",
      "259    260  0.001530\n",
      "1195  1196  0.001500\n",
      "1209  1210  0.001457\n",
      "479    480  0.001338\n",
      "                                                  Title  \\\n",
      "257           Star Wars: Episode IV - A New Hope (1977)   \n",
      "476                                Jurassic Park (1993)   \n",
      "585                   Terminator 2: Judgment Day (1991)   \n",
      "589                    Silence of the Lambs, The (1991)   \n",
      "1178  Star Wars: Episode V - The Empire Strikes Back...   \n",
      "1192  Star Wars: Episode VI - Return of the Jedi (1983)   \n",
      "1250                          Back to the Future (1985)   \n",
      "1959                         Saving Private Ryan (1998)   \n",
      "2693                            Sixth Sense, The (1999)   \n",
      "2789                             American Beauty (1999)   \n",
      "\n",
      "                                   Genres  \n",
      "257       Action|Adventure|Fantasy|Sci-Fi  \n",
      "476               Action|Adventure|Sci-Fi  \n",
      "585                Action|Sci-Fi|Thriller  \n",
      "589                        Drama|Thriller  \n",
      "1178    Action|Adventure|Drama|Sci-Fi|War  \n",
      "1192  Action|Adventure|Romance|Sci-Fi|War  \n",
      "1250                        Comedy|Sci-Fi  \n",
      "1959                     Action|Drama|War  \n",
      "2693                             Thriller  \n",
      "2789                         Comedy|Drama  \n"
     ]
    }
   ],
   "source": [
    "def recommend_movies_based_on_pagerank(user_id, movie_pr, n_recommendations=10):\n",
    "    top_movies = movie_pr.head(n_recommendations)\n",
    "    recommended_movie_ids = top_movies['ID']\n",
    "\n",
    "    return movies[movies['MovieID'].isin(recommended_movie_ids)][['Title', 'Genres']]\n",
    "\n",
    "print(recommend_movies_based_on_pagerank(1, movie_pr))\n"
   ]
  }
 ],
 "metadata": {
  "kernelspec": {
   "display_name": "Python 3",
   "language": "python",
   "name": "python3"
  },
  "language_info": {
   "codemirror_mode": {
    "name": "ipython",
    "version": 2
   },
   "file_extension": ".py",
   "mimetype": "text/x-python",
   "name": "python",
   "nbconvert_exporter": "python",
   "pygments_lexer": "ipython2",
   "version": "2.7.6"
  }
 },
 "nbformat": 4,
 "nbformat_minor": 5
}
