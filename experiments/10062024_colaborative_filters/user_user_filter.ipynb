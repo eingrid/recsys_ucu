{
 "cells": [
  {
   "cell_type": "code",
   "execution_count": 6,
   "outputs": [
    {
     "ename": "ImportError",
     "evalue": "cannot import name 'evaluate_model' from 'src.utils' (/Users/pavlo.borysenko/DataspellProjects/recsys_ucu/src/utils.py)",
     "output_type": "error",
     "traceback": [
      "\u001B[0;31m---------------------------------------------------------------------------\u001B[0m",
      "\u001B[0;31mImportError\u001B[0m                               Traceback (most recent call last)",
      "Cell \u001B[0;32mIn[6], line 2\u001B[0m\n\u001B[1;32m      1\u001B[0m \u001B[38;5;28;01mfrom\u001B[39;00m \u001B[38;5;21;01msrc\u001B[39;00m\u001B[38;5;21;01m.\u001B[39;00m\u001B[38;5;21;01mconfig\u001B[39;00m \u001B[38;5;28;01mimport\u001B[39;00m MOVIES_PATH, RATINGS_PATH\n\u001B[0;32m----> 2\u001B[0m \u001B[38;5;28;01mfrom\u001B[39;00m \u001B[38;5;21;01msrc\u001B[39;00m\u001B[38;5;21;01m.\u001B[39;00m\u001B[38;5;21;01mutils\u001B[39;00m \u001B[38;5;28;01mimport\u001B[39;00m load_data, evaluate_model\n\u001B[1;32m      3\u001B[0m \u001B[38;5;28;01mimport\u001B[39;00m \u001B[38;5;21;01mpandas\u001B[39;00m \u001B[38;5;28;01mas\u001B[39;00m \u001B[38;5;21;01mpd\u001B[39;00m\n\u001B[1;32m      4\u001B[0m \u001B[38;5;28;01mfrom\u001B[39;00m \u001B[38;5;21;01msklearn\u001B[39;00m\u001B[38;5;21;01m.\u001B[39;00m\u001B[38;5;21;01mmetrics\u001B[39;00m\u001B[38;5;21;01m.\u001B[39;00m\u001B[38;5;21;01mpairwise\u001B[39;00m \u001B[38;5;28;01mimport\u001B[39;00m cosine_similarity\n",
      "\u001B[0;31mImportError\u001B[0m: cannot import name 'evaluate_model' from 'src.utils' (/Users/pavlo.borysenko/DataspellProjects/recsys_ucu/src/utils.py)"
     ]
    }
   ],
   "source": [
    "from src.config import MOVIES_PATH, RATINGS_PATH\n",
    "from src.utils import load_data, evaluate_model\n",
    "import pandas as pd\n",
    "from sklearn.metrics.pairwise import cosine_similarity\n",
    "\n",
    "movies, ratings = load_data(MOVIES_PATH, RATINGS_PATH)\n",
    "\n",
    "# Split data into train and test by timestamp\n",
    "ratings['Timestamp'] = pd.to_datetime(ratings['Timestamp'], unit='s')\n",
    "split_point = int(len(ratings) * 0.8)\n",
    "sorted_ratings = ratings.sort_values(by='Timestamp')\n",
    "train_ratings = sorted_ratings[:split_point]\n",
    "test_ratings = sorted_ratings[split_point:]\n",
    "\n",
    "user_item_matrix = train_ratings.pivot(index='UserID', columns='MovieID', values='Rating')\n",
    "user_item_matrix = user_item_matrix.fillna(0)\n",
    "\n",
    "user_similarity = cosine_similarity(user_item_matrix)\n",
    "user_similarity_df = pd.DataFrame(user_similarity, index=user_item_matrix.index, columns=user_item_matrix.index)\n",
    "\n",
    "def get_user_recommendations(user_id, user_item_matrix, user_similarity_df, n_recommendations=10):\n",
    "    if user_id not in user_similarity_df.index:\n",
    "        return []\n",
    "\n",
    "    sim_scores = user_similarity_df[user_id]\n",
    "    sim_users = sim_scores.sort_values(ascending=False).index[1:]\n",
    "    user_ratings = user_item_matrix.loc[user_id]\n",
    "    weighted_ratings = pd.Series(0, index=user_item_matrix.columns)\n",
    "\n",
    "    sim_sum = 0\n",
    "    for sim_user in sim_users:\n",
    "        sim_score = sim_scores[sim_user]\n",
    "        sim_ratings = user_item_matrix.loc[sim_user]\n",
    "        weighted_ratings += sim_ratings * sim_score\n",
    "        sim_sum += sim_score\n",
    "        if sim_sum > 1:\n",
    "            break\n",
    "\n",
    "    weighted_ratings = weighted_ratings / sim_sum\n",
    "    weighted_ratings = weighted_ratings[user_ratings == 0]\n",
    "    recommendations = weighted_ratings.sort_values(ascending=False).head(n_recommendations)\n",
    "    recommended_movie_ids = recommendations.index\n",
    "\n",
    "    return recommended_movie_ids\n",
    "\n",
    "user_id = test_ratings['UserID'].iloc[0]\n",
    "recommended_movies = get_user_recommendations(user_id, user_item_matrix, user_similarity_df)\n",
    "print(movies[movies['MovieID'].isin(recommended_movies)][['Title', 'Genres']])\n",
    "\n",
    "precision, recall, f1 = evaluate_model(test_ratings, user_item_matrix, user_similarity_df, get_user_recommendations)\n",
    "print(f'Precision: {precision:.2f}')\n",
    "print(f'Recall: {recall:.2f}')\n",
    "print(f'F1 Score: {f1:.2f}')\n",
    "\n",
    "\n"
   ],
   "metadata": {
    "collapsed": false,
    "ExecuteTime": {
     "end_time": "2024-06-16T13:26:12.419464Z",
     "start_time": "2024-06-16T13:26:12.212146Z"
    }
   },
   "id": "630b3b52b8d9df1f"
  }
 ],
 "metadata": {
  "kernelspec": {
   "display_name": "Python 3",
   "language": "python",
   "name": "python3"
  },
  "language_info": {
   "codemirror_mode": {
    "name": "ipython",
    "version": 2
   },
   "file_extension": ".py",
   "mimetype": "text/x-python",
   "name": "python",
   "nbconvert_exporter": "python",
   "pygments_lexer": "ipython2",
   "version": "2.7.6"
  }
 },
 "nbformat": 4,
 "nbformat_minor": 5
}
