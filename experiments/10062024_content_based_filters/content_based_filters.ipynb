{
 "cells": [
  {
   "cell_type": "code",
   "execution_count": 1,
   "id": "7ee5056dad5d316a",
   "metadata": {
    "collapsed": false,
    "ExecuteTime": {
     "end_time": "2024-06-16T17:55:45.537063Z",
     "start_time": "2024-06-16T17:55:28.109722Z"
    }
   },
   "outputs": [
    {
     "name": "stdout",
     "output_type": "stream",
     "text": [
      "980             Aladdin and the King of Thieves (1996)\n",
      "1935                          American Tail, An (1986)\n",
      "1936        American Tail: Fievel Goes West, An (1991)\n",
      "2132                         Rugrats Movie, The (1998)\n",
      "2133                              Bug's Life, A (1998)\n",
      "2867                                Toy Story 2 (1999)\n",
      "3333                             Saludos Amigos (1943)\n",
      "3468                                Chicken Run (2000)\n",
      "3471    Adventures of Rocky and Bullwinkle, The (2000)\n",
      "12                                        Balto (1995)\n",
      "Name: title, dtype: object\n",
      "Precision: 28.66\n",
      "Recall: 0.55\n",
      "F1 Score: 1.08\n"
     ]
    }
   ],
   "source": [
    "import pandas as pd\n",
    "from sklearn.feature_extraction.text import TfidfVectorizer\n",
    "from sklearn.metrics.pairwise import linear_kernel\n",
    "\n",
    "import sys\n",
    "# add root folder to path\n",
    "folder = \"../../\"\n",
    "sys.path.append(folder)\n",
    "from src.utils import load_data\n",
    "users,ratings,movies = load_data('../../data/ml-1m')\n",
    "\n",
    "ratings['timestamp'] = pd.to_datetime(ratings['timestamp'])\n",
    "\n",
    "cutoff_date = ratings['timestamp'].quantile(0.8)  # 80% of the data for training, 20% for testing\n",
    "train_ratings = ratings[ratings['timestamp'] <= cutoff_date]\n",
    "test_ratings = ratings[ratings['timestamp'] > cutoff_date]\n",
    "\n",
    "train_movie_ids = train_ratings['movie_id'].unique()\n",
    "test_movie_ids = test_ratings['movie_id'].unique()\n",
    "\n",
    "train_movies = movies[movies['movie_id'].isin(train_movie_ids)]\n",
    "test_movies = movies[movies['movie_id'].isin(test_movie_ids)]\n",
    "\n",
    "# Ensure the indices are reset to avoid out of bound errors\n",
    "train_movies = train_movies.reset_index(drop=True)\n",
    "test_movies = test_movies.reset_index(drop=True)\n",
    "\n",
    "title_to_index = pd.Series(train_movies.index, index=train_movies['title']).drop_duplicates()\n",
    "\n",
    "tfidf = TfidfVectorizer(stop_words='english')\n",
    "train_movies['genres'] = train_movies['genres'].fillna('')\n",
    "tfidf_matrix = tfidf.fit_transform(train_movies['genres'])\n",
    "cosine_sim = linear_kernel(tfidf_matrix, tfidf_matrix)\n",
    "\n",
    "\n",
    "def get_recommendations(title, cosine_sim=cosine_sim):\n",
    "    if title not in title_to_index:\n",
    "        return []\n",
    "    idx = title_to_index[title]\n",
    "    sim_scores = list(enumerate(cosine_sim[idx]))\n",
    "    sim_scores = sorted(sim_scores, key=lambda x: x[1], reverse=True)\n",
    "    sim_scores = sim_scores[1:11]\n",
    "    movie_indices = [i[0] for i in sim_scores]\n",
    "\n",
    "    return train_movies['title'].iloc[movie_indices]\n",
    "\n",
    "\n",
    "print(get_recommendations('Toy Story (1995)'))\n",
    "\n",
    "\n",
    "def evaluate_model():\n",
    "    relevant_movies = 0\n",
    "    recommended_relevant_movies = 0\n",
    "    total_recommendations = 0\n",
    "\n",
    "    for title in test_movies['title']:\n",
    "        recommendations = get_recommendations(title)\n",
    "        test_user_ratings = test_ratings[test_ratings['movie_id'].isin(test_movies[test_movies['title'].isin(recommendations)]['movie_id'])]\n",
    "\n",
    "        relevant_movies += len(test_user_ratings)\n",
    "        recommended_relevant_movies += sum(test_user_ratings['rating'] >= 4)\n",
    "        total_recommendations += len(recommendations)\n",
    "\n",
    "    precision = recommended_relevant_movies / total_recommendations if total_recommendations > 0 else 0\n",
    "    recall = recommended_relevant_movies / relevant_movies if relevant_movies > 0 else 0\n",
    "    f1 = 2 * (precision * recall) / (precision + recall) if (precision + recall) > 0 else 0\n",
    "\n",
    "    return precision, recall, f1\n",
    "\n",
    "\n",
    "precision, recall, f1 = evaluate_model()\n",
    "print(f'Precision: {precision:.2f}')\n",
    "print(f'Recall: {recall:.2f}')\n",
    "print(f'F1 Score: {f1:.2f}')\n"
   ]
  }
 ],
 "metadata": {
  "kernelspec": {
   "display_name": "Python 3",
   "language": "python",
   "name": "python3"
  },
  "language_info": {
   "codemirror_mode": {
    "name": "ipython",
    "version": 3
   },
   "file_extension": ".py",
   "mimetype": "text/x-python",
   "name": "python",
   "nbconvert_exporter": "python",
   "pygments_lexer": "ipython3",
   "version": "3.12.3"
  }
 },
 "nbformat": 4,
 "nbformat_minor": 5
}
