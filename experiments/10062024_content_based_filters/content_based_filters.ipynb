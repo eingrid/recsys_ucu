{
 "cells": [
  {
   "cell_type": "code",
   "execution_count": null,
   "id": "7ee5056dad5d316a",
   "metadata": {
    "collapsed": false,
    "is_executing": true,
    "ExecuteTime": {
     "start_time": "2024-06-16T19:08:07.430590Z"
    }
   },
   "outputs": [
    {
     "name": "stdout",
     "output_type": "stream",
     "text": [
      "980             Aladdin and the King of Thieves (1996)\n",
      "1935                          American Tail, An (1986)\n",
      "1936        American Tail: Fievel Goes West, An (1991)\n",
      "2132                         Rugrats Movie, The (1998)\n",
      "2133                              Bug's Life, A (1998)\n",
      "2867                                Toy Story 2 (1999)\n",
      "3333                             Saludos Amigos (1943)\n",
      "3468                                Chicken Run (2000)\n",
      "3471    Adventures of Rocky and Bullwinkle, The (2000)\n",
      "12                                        Balto (1995)\n",
      "Name: title, dtype: object\n",
      "Recommendations for User 635:\n",
      "276               New Jersey Drive (1995)\n",
      "281             Once Were Warriors (1994)\n",
      "381                  Jason's Lyric (1994)\n",
      "414                  Carlito's Way (1993)\n",
      "784                          Cyclo (1995)\n",
      "802    Killer: A Journal of Murder (1995)\n",
      "884           Angel on My Shoulder (1946)\n",
      "886        They Made Me a Criminal (1939)\n",
      "970                    Normal Life (1996)\n",
      "307                       Stargate (1994)\n",
      "dtype: object\n"
     ]
    },
    {
     "name": "stderr",
     "output_type": "stream",
     "text": [
      "/Users/pavlo.borysenko/DataspellProjects/recsys_ucu/src/metrics.py:28: FutureWarning: elementwise comparison failed; returning scalar instead, but in the future will perform elementwise comparison\n",
      "  num_relevant_items = sum(item in relevant_items for item in top_k_recs)\n",
      "/Users/pavlo.borysenko/anaconda3/lib/python3.10/site-packages/numpy/core/fromnumeric.py:3432: RuntimeWarning: Mean of empty slice.\n",
      "  return _methods._mean(a, axis=axis, dtype=dtype,\n",
      "/Users/pavlo.borysenko/anaconda3/lib/python3.10/site-packages/numpy/core/_methods.py:190: RuntimeWarning: invalid value encountered in double_scalars\n",
      "  ret = ret.dtype.type(ret / rcount)\n",
      "/Users/pavlo.borysenko/DataspellProjects/recsys_ucu/src/metrics.py:96: FutureWarning: elementwise comparison failed; returning scalar instead, but in the future will perform elementwise comparison\n",
      "  if item in relevant_items:\n",
      "/Users/pavlo.borysenko/DataspellProjects/recsys_ucu/src/metrics.py:126: FutureWarning: elementwise comparison failed; returning scalar instead, but in the future will perform elementwise comparison\n",
      "  if item in relevant_items:\n",
      "/Users/pavlo.borysenko/DataspellProjects/recsys_ucu/src/metrics.py:153: FutureWarning: elementwise comparison failed; returning scalar instead, but in the future will perform elementwise comparison\n",
      "  if any(item in relevant_items for item in recs[:k]):\n"
     ]
    }
   ],
   "source": [
    "import pandas as pd\n",
    "from sklearn.feature_extraction.text import TfidfVectorizer\n",
    "from sklearn.metrics.pairwise import linear_kernel\n",
    "\n",
    "import sys\n",
    "# add root folder to path\n",
    "folder = \"../../\"\n",
    "sys.path.append(folder)\n",
    "from src.utils import load_data\n",
    "from src.utils import plot_metrics_grid\n",
    "from src.utils import load_baseline_rec_result\n",
    "from src.metrics import evaluate_recommender_system\n",
    "\n",
    "users,ratings,movies = load_data('../../data/ml-1m')\n",
    "\n",
    "ratings['timestamp'] = pd.to_datetime(ratings['timestamp'])\n",
    "\n",
    "cutoff_date = ratings['timestamp'].quantile(0.8)  # 80% of the data for training, 20% for testing\n",
    "train_ratings = ratings[ratings['timestamp'] <= cutoff_date]\n",
    "test_ratings = ratings[ratings['timestamp'] > cutoff_date]\n",
    "\n",
    "train_movie_ids = train_ratings['movie_id'].unique()\n",
    "test_movie_ids = test_ratings['movie_id'].unique()\n",
    "\n",
    "train_movies = movies[movies['movie_id'].isin(train_movie_ids)]\n",
    "test_movies = movies[movies['movie_id'].isin(test_movie_ids)]\n",
    "\n",
    "# Ensure the indices are reset to avoid out of bound errors\n",
    "train_movies = train_movies.reset_index(drop=True)\n",
    "test_movies = test_movies.reset_index(drop=True)\n",
    "\n",
    "title_to_index = pd.Series(train_movies.index, index=train_movies['title']).drop_duplicates()\n",
    "\n",
    "tfidf = TfidfVectorizer(stop_words='english')\n",
    "train_movies['genres'] = train_movies['genres'].fillna('')\n",
    "tfidf_matrix = tfidf.fit_transform(train_movies['genres'])\n",
    "cosine_sim = linear_kernel(tfidf_matrix, tfidf_matrix)\n",
    "\n",
    "\n",
    "def get_recommendations(title, cosine_sim=cosine_sim, n=10):\n",
    "    if title not in title_to_index:\n",
    "        return []\n",
    "    idx = title_to_index[title]\n",
    "    sim_scores = list(enumerate(cosine_sim[idx]))\n",
    "    sim_scores = sorted(sim_scores, key=lambda x: x[1], reverse=True)\n",
    "    sim_scores = sim_scores[1:n+1]\n",
    "    movie_indices = [i[0] for i in sim_scores]\n",
    "\n",
    "    return train_movies['title'].iloc[movie_indices]\n",
    "\n",
    "\n",
    "print(get_recommendations('Toy Story (1995)'))\n",
    "\n",
    "def get_user_recommendations(user_id, n=10):\n",
    "    user_ratings = train_ratings[train_ratings['user_id'] == user_id]\n",
    "    high_rated_movies = user_ratings[user_ratings['rating'] >= 4]['movie_id']\n",
    "    high_rated_titles = train_movies[train_movies['movie_id'].isin(high_rated_movies)]['title']\n",
    "    recommendations = pd.Series(dtype='object')\n",
    "    for title in high_rated_titles:\n",
    "        recs = get_recommendations(title)\n",
    "        recommendations = pd.concat([recommendations, recs])\n",
    "    recommendations = recommendations[~recommendations.isin(high_rated_titles)].drop_duplicates()\n",
    "\n",
    "    return recommendations.head(n)\n",
    "\n",
    "user_id = 635\n",
    "print(f'Recommendations for User {user_id}:')\n",
    "print(get_user_recommendations(user_id))\n",
    "\n",
    "metrics_results = {}\n",
    "base_line_metrics = load_baseline_rec_result()\n",
    "for i in range(5, 26, 5):\n",
    "    recommendations = {}\n",
    "    for user_id in test_ratings['user_id'].unique():\n",
    "        recommendations[user_id] = get_user_recommendations(user_id, i)\n",
    "    metrics_results[str(i)] = evaluate_recommender_system(recommendations, test_ratings, len(movies))\n",
    "\n",
    "combined = base_line_metrics | {'content_based_filter': metrics_results}\n",
    "metrics = ['Precision@K', 'Recall@K', 'NDCG@K', 'MAP@K', 'MRR', 'Hit Rate@K', 'Coverage@K']\n",
    "plot_metrics_grid(combined, metrics)"
   ]
  },
  {
   "cell_type": "code",
   "execution_count": null,
   "outputs": [],
   "source": [],
   "metadata": {
    "collapsed": false
   },
   "id": "e02cb67a9a11f176"
  }
 ],
 "metadata": {
  "kernelspec": {
   "display_name": "Python 3",
   "language": "python",
   "name": "python3"
  },
  "language_info": {
   "codemirror_mode": {
    "name": "ipython",
    "version": 3
   },
   "file_extension": ".py",
   "mimetype": "text/x-python",
   "name": "python",
   "nbconvert_exporter": "python",
   "pygments_lexer": "ipython3",
   "version": "3.12.3"
  }
 },
 "nbformat": 4,
 "nbformat_minor": 5
}
