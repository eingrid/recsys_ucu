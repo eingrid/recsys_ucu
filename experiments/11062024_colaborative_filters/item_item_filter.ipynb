{
 "cells": [
  {
   "cell_type": "code",
   "execution_count": null,
   "id": "4d973c21151f6a65",
   "metadata": {
    "collapsed": false,
    "is_executing": true
   },
   "outputs": [],
   "source": [
    "import pandas as pd\n",
    "from sklearn.metrics.pairwise import cosine_similarity\n",
    "import sys\n",
    "\n",
    "# add root folder to path\n",
    "folder = \"../../\"\n",
    "sys.path.append(folder)\n",
    "from src.utils import load_data\n",
    "from src.utils import evaluate_model\n",
    "\n",
    "users,movies,ratings = load_data('../../data/movies.csv')\n",
    "\n",
    "# Split data into train and test by timestamp\n",
    "ratings['Timestamp'] = pd.to_datetime(ratings['Timestamp'], unit='s')\n",
    "split_point = int(len(ratings) * 0.8)\n",
    "sorted_ratings = ratings.sort_values(by='Timestamp')\n",
    "train_ratings = sorted_ratings[:split_point]\n",
    "test_ratings = sorted_ratings[split_point:]\n",
    "\n",
    "item_user_matrix = train_ratings.pivot(index='MovieID', columns='UserID', values='Rating')\n",
    "item_user_matrix = item_user_matrix.fillna(0)\n",
    "\n",
    "item_similarity = cosine_similarity(item_user_matrix)\n",
    "item_similarity_df = pd.DataFrame(item_similarity, index=item_user_matrix.index, columns=item_user_matrix.index)\n",
    "\n",
    "def get_item_recommendations(user_id, item_user_matrix, item_similarity_df, n_recommendations=10):\n",
    "    if user_id not in item_user_matrix.columns:\n",
    "        return []\n",
    "\n",
    "    user_ratings = item_user_matrix.loc[:, user_id]\n",
    "    weighted_ratings = item_similarity_df.dot(user_ratings)\n",
    "    sum_of_similarities = item_similarity_df.dot(user_ratings > 0).replace(0, 1)  # Prevent division by zero\n",
    "    weighted_ratings = weighted_ratings / sum_of_similarities\n",
    "    already_rated = user_ratings > 0\n",
    "    weighted_ratings = weighted_ratings[~already_rated]\n",
    "    recommendations = weighted_ratings.sort_values(ascending=False).head(n_recommendations)\n",
    "    recommended_movie_ids = recommendations.index\n",
    "\n",
    "    return recommended_movie_ids\n",
    "\n",
    "user_id = test_ratings['UserID'].iloc[0]\n",
    "recommended_movies = get_item_recommendations(user_id, item_user_matrix, item_similarity_df)\n",
    "print(movies[movies['MovieID'].isin(recommended_movies)][['Title', 'Genres']])\n",
    "\n",
    "precision, recall, f1 = evaluate_model(test_ratings, item_user_matrix, item_similarity_df, get_item_recommendations)\n",
    "print(f'Precision: {precision:.2f}')\n",
    "print(f'Recall: {recall:.2f}')\n",
    "print(f'F1 Score: {f1:.2f}')\n",
    "\n",
    "\n"
   ]
  }
 ],
 "metadata": {
  "kernelspec": {
   "display_name": "Python 3",
   "language": "python",
   "name": "python3"
  },
  "language_info": {
   "codemirror_mode": {
    "name": "ipython",
    "version": 2
   },
   "file_extension": ".py",
   "mimetype": "text/x-python",
   "name": "python",
   "nbconvert_exporter": "python",
   "pygments_lexer": "ipython2",
   "version": "2.7.6"
  }
 },
 "nbformat": 4,
 "nbformat_minor": 5
}
