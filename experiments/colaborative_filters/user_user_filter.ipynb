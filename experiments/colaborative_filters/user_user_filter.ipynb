{
 "cells": [
  {
   "cell_type": "code",
   "execution_count": 3,
   "id": "initial_id",
   "metadata": {
    "collapsed": true,
    "ExecuteTime": {
     "end_time": "2024-06-15T08:43:24.486277Z",
     "start_time": "2024-06-15T08:43:20.844935Z"
    }
   },
   "outputs": [
    {
     "name": "stdout",
     "output_type": "stream",
     "text": [
      "                                 Title  \\\n",
      "589   Silence of the Lambs, The (1991)   \n",
      "592                   Pinocchio (1940)   \n",
      "1575          L.A. Confidential (1997)   \n",
      "2009           Jungle Book, The (1967)   \n",
      "2011         Lady and the Tramp (1955)   \n",
      "2012        Little Mermaid, The (1989)   \n",
      "2016             101 Dalmatians (1961)   \n",
      "2027            Sleeping Beauty (1959)   \n",
      "2068            Charlotte's Web (1973)   \n",
      "2789            American Beauty (1999)   \n",
      "\n",
      "                                           Genres  \n",
      "589                                Drama|Thriller  \n",
      "592                          Animation|Children's  \n",
      "1575             Crime|Film-Noir|Mystery|Thriller  \n",
      "2009          Animation|Children's|Comedy|Musical  \n",
      "2011  Animation|Children's|Comedy|Musical|Romance  \n",
      "2012  Animation|Children's|Comedy|Musical|Romance  \n",
      "2016                         Animation|Children's  \n",
      "2027                 Animation|Children's|Musical  \n",
      "2068                         Animation|Children's  \n",
      "2789                                 Comedy|Drama  \n"
     ]
    }
   ],
   "source": [
    "import pandas as pd\n",
    "from sklearn.metrics.pairwise import cosine_similarity\n",
    "\n",
    "movies = pd.read_csv('../../data/ml-1m/movies.dat', sep='::', header=None, names=['MovieID', 'Title', 'Genres'], engine='python', encoding='latin-1')\n",
    "ratings = pd.read_csv('../../data/ml-1m/ratings.dat', sep='::', header=None, names=['UserID', 'MovieID', 'Rating', 'Timestamp'], engine='python', encoding='latin-1')\n",
    "\n",
    "user_item_matrix = ratings.pivot(index='UserID', columns='MovieID', values='Rating')\n",
    "user_item_matrix = user_item_matrix.fillna(0)\n",
    "\n",
    "user_similarity = cosine_similarity(user_item_matrix)\n",
    "user_similarity_df = pd.DataFrame(user_similarity, index=user_item_matrix.index, columns=user_item_matrix.index)\n",
    "\n",
    "def get_user_recommendations(user_id, user_item_matrix, user_similarity_df, n_recommendations=10):\n",
    "    sim_scores = user_similarity_df[user_id]\n",
    "    sim_users = sim_scores.sort_values(ascending=False).index[1:]\n",
    "    user_ratings = user_item_matrix.loc[user_id]\n",
    "    weighted_ratings = pd.Series(0, index=user_item_matrix.columns)\n",
    "    \n",
    "    sim_sum = 0\n",
    "    for sim_user in sim_users:\n",
    "        sim_score = sim_scores[sim_user]\n",
    "        sim_ratings = user_item_matrix.loc[sim_user]\n",
    "        weighted_ratings += sim_ratings * sim_score\n",
    "        sim_sum += sim_score\n",
    "        if sim_sum > 1:\n",
    "            break\n",
    "\n",
    "    weighted_ratings = weighted_ratings / sim_sum\n",
    "    weighted_ratings = weighted_ratings[user_ratings == 0]\n",
    "    recommendations = weighted_ratings.sort_values(ascending=False).head(n_recommendations)\n",
    "    recommended_movie_ids = recommendations.index\n",
    "    \n",
    "    return movies[movies['MovieID'].isin(recommended_movie_ids)][['Title', 'Genres']]\n",
    "\n",
    "print(get_user_recommendations(1, user_item_matrix, user_similarity_df))\n"
   ]
  }
 ],
 "metadata": {
  "kernelspec": {
   "display_name": "Python 3",
   "language": "python",
   "name": "python3"
  },
  "language_info": {
   "codemirror_mode": {
    "name": "ipython",
    "version": 2
   },
   "file_extension": ".py",
   "mimetype": "text/x-python",
   "name": "python",
   "nbconvert_exporter": "python",
   "pygments_lexer": "ipython2",
   "version": "2.7.6"
  }
 },
 "nbformat": 4,
 "nbformat_minor": 5
}
