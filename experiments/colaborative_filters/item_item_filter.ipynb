{
 "cells": [
  {
   "cell_type": "code",
   "execution_count": 3,
   "id": "initial_id",
   "metadata": {
    "collapsed": true,
    "ExecuteTime": {
     "end_time": "2024-06-15T08:43:37.052569Z",
     "start_time": "2024-06-15T08:43:33.774904Z"
    }
   },
   "outputs": [
    {
     "name": "stdout",
     "output_type": "stream",
     "text": [
      "                                            Title          Genres\n",
      "977     Schlafes Bruder (Brother of Sleep) (1995)           Drama\n",
      "1846  Voyage to the Beginning of the World (1997)           Drama\n",
      "2274                        Naked Man, The (1998)           Drama\n",
      "2369                         Outside Ozona (1998)  Drama|Thriller\n",
      "2776                            White Boys (1999)           Drama\n",
      "3140                  Loves of Carmen, The (1948)           Drama\n",
      "3147        Vampyros Lesbos (Las Vampiras) (1970)          Horror\n",
      "3164                         Smashing Time (1967)          Comedy\n",
      "3461                    Smoking/No Smoking (1993)          Comedy\n",
      "3820                            Back Stage (2000)     Documentary\n"
     ]
    }
   ],
   "source": [
    "import pandas as pd\n",
    "from sklearn.metrics.pairwise import cosine_similarity\n",
    "\n",
    "movies = pd.read_csv('../../data/ml-1m/movies.dat', sep='::', header=None, names=['MovieID', 'Title', 'Genres'], engine='python', encoding='latin-1')\n",
    "ratings = pd.read_csv('../../data/ml-1m/ratings.dat', sep='::', header=None, names=['UserID', 'MovieID', 'Rating', 'Timestamp'], engine='python', encoding='latin-1')\n",
    "\n",
    "item_user_matrix = ratings.pivot(index='MovieID', columns='UserID', values='Rating')\n",
    "item_user_matrix = item_user_matrix.fillna(0)\n",
    "\n",
    "item_similarity = cosine_similarity(item_user_matrix)\n",
    "item_similarity_df = pd.DataFrame(item_similarity, index=item_user_matrix.index, columns=item_user_matrix.index)\n",
    "\n",
    "def get_item_recommendations(user_id, item_user_matrix, item_similarity_df, n_recommendations=10):\n",
    "    user_ratings = item_user_matrix.loc[:, user_id]\n",
    "    weighted_ratings = item_similarity_df.dot(user_ratings)\n",
    "    sum_of_similarities = item_similarity_df.dot(user_ratings > 0).replace(0, 1)  # Prevent division by zero\n",
    "    weighted_ratings = weighted_ratings / sum_of_similarities\n",
    "    already_rated = user_ratings > 0\n",
    "    weighted_ratings = weighted_ratings[~already_rated]\n",
    "    recommendations = weighted_ratings.sort_values(ascending=False).head(n_recommendations)\n",
    "    recommended_movie_ids = recommendations.index\n",
    "\n",
    "    return movies[movies['MovieID'].isin(recommended_movie_ids)][['Title', 'Genres']]\n",
    "\n",
    "print(get_item_recommendations(1, item_user_matrix, item_similarity_df))\n"
   ]
  },
  {
   "cell_type": "code",
   "execution_count": null,
   "outputs": [],
   "source": [],
   "metadata": {
    "collapsed": false
   },
   "id": "31530ea4b0920dd7"
  }
 ],
 "metadata": {
  "kernelspec": {
   "display_name": "Python 3",
   "language": "python",
   "name": "python3"
  },
  "language_info": {
   "codemirror_mode": {
    "name": "ipython",
    "version": 2
   },
   "file_extension": ".py",
   "mimetype": "text/x-python",
   "name": "python",
   "nbconvert_exporter": "python",
   "pygments_lexer": "ipython2",
   "version": "2.7.6"
  }
 },
 "nbformat": 4,
 "nbformat_minor": 5
}
